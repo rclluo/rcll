{
 "cells": [
  {
   "cell_type": "markdown",
   "metadata": {},
   "source": [
    "# **R** *clluo's*\n",
    "# **C** *ute*\n",
    "# **L** *ittle*\n",
    "# **L** *ibrary*"
   ]
  },
  {
   "cell_type": "markdown",
   "metadata": {},
   "source": [
    "> # **math**\n",
    ">> ## infix\n",
    ">>> ### Infix\n",
    ">>>> This allows the creation of custom operators. \\\n",
    ">>>> For example:\n",
    ">>>>> `from rcll.math.infix import Infix` \\\n",
    ">>>>> `add=Infix(lambda a, b: a+b)` \\\n",
    ">>>>> `print(1 |add| 2)` "
   ]
  },
  {
   "cell_type": "markdown",
   "metadata": {},
   "source": [
    "## ge: Geometry"
   ]
  },
  {
   "cell_type": "markdown",
   "metadata": {},
   "source": [
    "### Line"
   ]
  },
  {
   "cell_type": "markdown",
   "metadata": {},
   "source": [
    "A line in 2D space.\n",
    "It is initialized with two parameters: a point on the line and the slope of the line."
   ]
  },
  {
   "cell_type": "markdown",
   "metadata": {},
   "source": [
    "#### distance"
   ]
  }
 ],
 "metadata": {
  "language_info": {
   "name": "python"
  }
 },
 "nbformat": 4,
 "nbformat_minor": 2
}
